{
 "cells": [
  {
   "cell_type": "code",
   "execution_count": null,
   "metadata": {},
   "outputs": [],
   "source": [
    "#Top \n",
    "key_cr = ['Larceny','Theft', 'Assault', 'Vandalism', 'Burglary',\n",
    "          'Battery','Rape','Possession', 'Robbery','Fraudulent','Mental','Violation','Person',\n",
    "         'Suspicious','Shoplifting','Traffic','Vehicle']\n",
    "#Assigns Known crime \n",
    "def assign_crime(x):\n",
    "    cr = 'general'\n",
    "    for crime in key_cr:\n",
    "        if crime in x:\n",
    "            cr = crime\n",
    "    return cr\n",
    "\n",
    "def crime_keywords(x):\n",
    "    key_crimes = []\n",
    "    for x in crimes:\n",
    "        crime = x.split()\n",
    "        for c in crime:\n",
    "            key_crimes.append(c.strip(','))\n",
    "    return key_crimes  "
   ]
  }
 ],
 "metadata": {
  "kernelspec": {
   "display_name": "Python 3",
   "language": "python",
   "name": "python3"
  },
  "language_info": {
   "codemirror_mode": {
    "name": "ipython",
    "version": 3
   },
   "file_extension": ".py",
   "mimetype": "text/x-python",
   "name": "python",
   "nbconvert_exporter": "python",
   "pygments_lexer": "ipython3",
   "version": "3.7.3"
  }
 },
 "nbformat": 4,
 "nbformat_minor": 2
}
